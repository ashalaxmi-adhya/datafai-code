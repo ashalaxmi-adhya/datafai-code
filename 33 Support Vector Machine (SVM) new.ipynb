{
 "cells": [
  {
   "cell_type": "markdown",
   "metadata": {},
   "source": [
    "https://datafai.com/2018/08/10/support-vector-machine-svm/\n",
    "https://medium.com/all-things-ai/in-depth-parameter-tuning-for-svc-758215394769"
   ]
  },
  {
   "cell_type": "code",
   "execution_count": 4,
   "metadata": {},
   "outputs": [],
   "source": [
    "import numpy as np\n",
    "import matplotlib.pyplot as plt\n",
    "from sklearn import svm, datasets\n",
    "%matplotlib inline\n",
    "\n",
    "# import some data to play with\n",
    "iris = datasets.load_iris()\n",
    "X = iris.data[:, :2] # we only take the first two features. We could\n",
    " # avoid this ugly slicing by using a two-dim dataset\n",
    "y = iris.target"
   ]
  },
  {
   "cell_type": "code",
   "execution_count": 6,
   "metadata": {},
   "outputs": [
    {
     "ename": "IndentationError",
     "evalue": "unindent does not match any outer indentation level (<tokenize>, line 9)",
     "output_type": "error",
     "traceback": [
      "\u001b[1;36m  File \u001b[1;32m\"<tokenize>\"\u001b[1;36m, line \u001b[1;32m9\u001b[0m\n\u001b[1;33m    plt.subplot(1, 1, 1)\u001b[0m\n\u001b[1;37m    ^\u001b[0m\n\u001b[1;31mIndentationError\u001b[0m\u001b[1;31m:\u001b[0m unindent does not match any outer indentation level\n"
     ]
    }
   ],
   "source": [
    "def plotSVC(title):\n",
    "    # create a mesh to plot in\n",
    "    x_min, x_max = X[:, 0].min() — 1, X[:, 0].max() + 1\n",
    "    y_min, y_max = X[:, 1].min() — 1, X[:, 1].max() + 1\n",
    "    h = (x_max / x_min)/100\n",
    "    xx, yy = np.meshgrid(np.arange(x_min, x_max, h),\n",
    "                         np.arange(y_min, y_max, h))\n",
    "\n",
    " plt.subplot(1, 1, 1)\n",
    " Z = svc.predict(np.c_[xx.ravel(), yy.ravel()])\n",
    " Z = Z.reshape(xx.shape)\n",
    " plt.contourf(xx, yy, Z, cmap=plt.cm.Paired, alpha=0.8)\n",
    "\n",
    " plt.scatter(X[:, 0], X[:, 1], c=y, cmap=plt.cm.Paired)\n",
    " plt.xlabel(‘Sepal length’)\n",
    " plt.ylabel(‘Sepal width’)\n",
    " plt.xlim(xx.min(), xx.max())\n",
    " plt.title(title)\n",
    " plt.show()"
   ]
  },
  {
   "cell_type": "code",
   "execution_count": null,
   "metadata": {},
   "outputs": [],
   "source": [
    "kernels = [‘linear’, ‘rbf’, ‘poly’]\n",
    "for kernel in kernels:\n",
    "  svc = svm.SVC(kernel=kernel).fit(X, y)\n",
    "  plotSVC(‘kernel=’ + str(kernel))"
   ]
  },
  {
   "cell_type": "code",
   "execution_count": null,
   "metadata": {},
   "outputs": [],
   "source": [
    "gammas = [0.1, 1, 10, 100]\n",
    "for gamma in gammas:\n",
    "   svc = svm.SVC(kernel=’rbf’, gamma=gamma).fit(X, y)\n",
    "   plotSVC(‘gamma=’ + str(gamma))"
   ]
  },
  {
   "cell_type": "code",
   "execution_count": null,
   "metadata": {},
   "outputs": [],
   "source": [
    "cs = [0.1, 1, 10, 100, 1000]\n",
    "for c in cs:\n",
    "   svc = svm.SVC(kernel=’rbf’, C=c).fit(X, y)\n",
    "   plotSVC(‘C=’ + str(c))"
   ]
  },
  {
   "cell_type": "code",
   "execution_count": null,
   "metadata": {},
   "outputs": [],
   "source": [
    "degrees = [0, 1, 2, 3, 4, 5, 6]\n",
    "\n",
    "for degree in degrees:\n",
    "   svc = svm.SVC(kernel=’poly’, degree=degree).fit(X, y)\n",
    "   plotSVC(‘degree=’ + str(degree))"
   ]
  }
 ],
 "metadata": {
  "kernelspec": {
   "display_name": "Python 3",
   "language": "python",
   "name": "python3"
  },
  "language_info": {
   "codemirror_mode": {
    "name": "ipython",
    "version": 3
   },
   "file_extension": ".py",
   "mimetype": "text/x-python",
   "name": "python",
   "nbconvert_exporter": "python",
   "pygments_lexer": "ipython3",
   "version": "3.7.2"
  }
 },
 "nbformat": 4,
 "nbformat_minor": 2
}
