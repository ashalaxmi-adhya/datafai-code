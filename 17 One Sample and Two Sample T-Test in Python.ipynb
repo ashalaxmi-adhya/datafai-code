{
 "cells": [
  {
   "cell_type": "markdown",
   "metadata": {},
   "source": [
    "https://datafai.com/how-to-conduct-one-sample-and-two-sample-t-test-in-python/\n",
    "\n",
    "How to Conduct One Sample and Two Sample T-Test in Python\n"
   ]
  },
  {
   "cell_type": "code",
   "execution_count": 5,
   "metadata": {},
   "outputs": [
    {
     "name": "stdout",
     "output_type": "stream",
     "text": [
      "x1 [10442.61904832  9639.96939316  7833.93409471  9294.4602849\n",
      "  9181.25169676  8022.22748874  9754.57672688 11003.87821014\n",
      " 10623.96410827 11077.19497174  9732.69632432  9373.20343694\n",
      "  8455.79843843 10208.54844789 10703.96805699 10885.71465269\n",
      "  9331.77099709  9782.557774    9469.26055766  8227.2659187\n",
      " 10674.56102393 10310.98088308  9250.53476507 10733.60575298\n",
      " 10496.61957145 12572.44013375 10284.14832968 10285.38520909\n",
      "  8834.51347378  9908.82473041  9111.46140112  8490.41403838\n",
      " 11615.48193475 10900.94661998  9409.91323554 10278.35616291\n",
      "  9392.76899598 10039.08181904  9745.5432753   8624.25759485\n",
      " 10948.22636543 10632.44689324 11749.5564931   8663.55246844\n",
      " 11146.91239367 10218.54716481 10745.0513721   8203.32387291\n",
      "  9324.23695173  9227.73958511]\n",
      "x2 [1124.90429155  999.83933037  948.54464181 1072.47111021  961.46506888\n",
      " 1121.18362771  934.72007167  964.17848545  840.84965932 1168.87532149\n",
      " 1003.640992    944.75107243  994.50895507 1088.16658586 1010.65269088\n",
      " 1009.75689322  902.27326219 1101.33836248 1026.77212825 1061.07005023\n",
      "  974.9829449  1025.93067829  953.57622626  971.88906632  982.17283085\n",
      " 1027.45908376  979.33919601 1106.89949958  913.10028055  997.52223164\n",
      "  979.06222072  866.90573667 1034.30186876 1104.52825618  906.75361957\n",
      "  790.53083765 1091.78486807  990.55063693 1203.84150828  960.04459332\n",
      "  977.20891913 1008.46774363  982.75267737  836.39254812 1073.52977645\n",
      "  972.08399383 1088.98950167  830.46166057 1055.94506443  978.11108677]\n",
      "x3 [ 924.92342605  970.48773399  924.90175823 1011.88453021 1030.59782602\n",
      " 1070.30469131  797.30076207 1058.02321517  754.86206296 1107.74412324\n",
      " 1043.03897674 1198.69714509  813.22850218 1062.96831044 1104.40677958\n",
      "  919.1716198  1017.87468549  921.68787388 1128.04427605  898.38233361\n",
      "  877.5523819  1113.6048291   814.34984613 1107.46054562  928.14709622\n",
      "  746.55029681  960.97828999 1146.84053189 1083.93702045  935.79627192\n",
      "  846.84671354  938.26028054 1044.57759003  950.98140191 1072.19999539\n",
      " 1103.76741237 1092.63610352 1001.19873172  975.22656546 1040.45861986\n",
      " 1086.53854886 1121.98165016  990.52204864 1011.59678002 1022.18528862\n",
      "  846.50334969  986.31960978 1019.42360446  903.85015988  966.61414434]\n"
     ]
    }
   ],
   "source": [
    "import numpy as np\n",
    "from scipy.stats import norm\n",
    "from scipy import stats\n",
    "x1=norm.rvs(loc=10000,scale=1000,size=50)\n",
    "x2=norm.rvs(loc=1000,scale=100,size=50)\n",
    "x3=norm.rvs(loc=1000,scale=100,size=50)\n",
    "from IPython.core.interactiveshell import InteractiveShell\n",
    "InteractiveShell.ast_node_interactivity=\"all\"\n",
    "print \"x1\",x1\n",
    "print \"x2\",x2\n",
    "print \"x3\",x3\n"
   ]
  },
  {
   "cell_type": "code",
   "execution_count": 6,
   "metadata": {},
   "outputs": [
    {
     "name": "stdout",
     "output_type": "stream",
     "text": [
      "('x1 Mean', 9897.285862798717)\n",
      "('x2 Mean', 998.9016351468291)\n",
      "('x3 Mean', 989.9087268189859)\n"
     ]
    }
   ],
   "source": [
    "print(\"x1 Mean\",x1.mean())\n",
    "print(\"x2 Mean\",x2.mean())\n",
    "print(\"x3 Mean\",x3.mean())\n"
   ]
  },
  {
   "cell_type": "code",
   "execution_count": 7,
   "metadata": {},
   "outputs": [
    {
     "name": "stdout",
     "output_type": "stream",
     "text": [
      "('X1 -1 sample t test', Ttest_1sampResult(statistic=67.99378537296032, pvalue=3.6598007440355857e-50))\n",
      "('X2 -1 sample t test', Ttest_1sampResult(statistic=81.54031497376891, pvalue=5.377585011904442e-54))\n",
      "('X3 -1 sample t test', Ttest_1sampResult(statistic=65.85208768397882, pvalue=1.7270778577859666e-49))\n"
     ]
    }
   ],
   "source": [
    "print(\"X1 -1 sample t test\",stats.ttest_1samp(x1,0))\n",
    "print(\"X2 -1 sample t test\",stats.ttest_1samp(x2,0))\n",
    "print(\"X3 -1 sample t test\",stats.ttest_1samp(x3,0))\n"
   ]
  },
  {
   "cell_type": "code",
   "execution_count": 8,
   "metadata": {},
   "outputs": [
    {
     "name": "stdout",
     "output_type": "stream",
     "text": [
      "('X1,X2 -2 sample individual result', Ttest_indResult(statistic=60.91604014881335, pvalue=1.0529888648422113e-79))\n",
      "('X1,X3 -2 sample individual result', Ttest_indResult(statistic=60.86944635746984, pvalue=1.1328182280107001e-79))\n",
      "('X2,X3 -2 sample individual result', Ttest_indResult(statistic=0.46374758458136295, pvalue=0.6438570041323701))\n"
     ]
    }
   ],
   "source": [
    "\n",
    "print(\"X1,X2 -2 sample individual result\",stats.ttest_ind(x1,x2))\n",
    "print(\"X1,X3 -2 sample individual result\",stats.ttest_ind(x1,x3))\n",
    "print(\"X2,X3 -2 sample individual result\",stats.ttest_ind(x2,x3))"
   ]
  },
  {
   "cell_type": "code",
   "execution_count": null,
   "metadata": {},
   "outputs": [],
   "source": []
  },
  {
   "cell_type": "code",
   "execution_count": null,
   "metadata": {},
   "outputs": [],
   "source": []
  }
 ],
 "metadata": {
  "kernelspec": {
   "display_name": "Python 2",
   "language": "python",
   "name": "python2"
  },
  "language_info": {
   "codemirror_mode": {
    "name": "ipython",
    "version": 2
   },
   "file_extension": ".py",
   "mimetype": "text/x-python",
   "name": "python",
   "nbconvert_exporter": "python",
   "pygments_lexer": "ipython2",
   "version": "2.7.15"
  }
 },
 "nbformat": 4,
 "nbformat_minor": 2
}
