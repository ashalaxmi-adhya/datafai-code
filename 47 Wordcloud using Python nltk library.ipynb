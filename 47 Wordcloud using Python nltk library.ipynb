{
 "cells": [
  {
   "cell_type": "code",
   "execution_count": 6,
   "metadata": {},
   "outputs": [],
   "source": [
    "#nltk.download('stopwords')\n",
    "import numpy as np\n",
    "import pandas as pd\n",
    "import nltk \n",
    "#import stopwords"
   ]
  },
  {
   "cell_type": "code",
   "execution_count": null,
   "metadata": {},
   "outputs": [],
   "source": [
    "word_string=\"\"\"Forget Koffee With Karan hamper, Ajay Devgn wins an Audi for his witty reply on Karan Johar’s show\n",
    "Ajay Devgn has won Audi A5 Sportback car for his witty reply on Koffee With Karan 6 and was handed over the keys of the car on Thursday. Details inside.\n",
    "tv Updated: Feb 08, 2019 11:52 IST\n",
    "HT Correspondent\n",
    "HT Correspondent\n",
    "Hindustan Times\n",
    "Ajay Devgn,Koffee With Karan Season 6,Karan Johar\n",
    "Ajay Devgn won an Audi sports car for his reply in Koffee With Karan 6.\n",
    "\n",
    "Karan Johar’s Koffee With Karan Season 6 has been running successfully, seeing many ups and downs. It is not clear when the popular chat show will end but the winner of this season’s best Answer Of The Season (AOTS) is out. According to a report in DNA, actor Ajay Devgn has won it.\n",
    "\n",
    "A recap should come handy — in this season, there is an award for the best answer in the rapid-fire round. As per the rules of the game, whoever came up the wittiest of replies was to win an Audi A5 Sportback car.\n",
    "\n",
    "Also read: Alia Bhatt says she will apologise to Kangana Ranaut personally for upsetting her\n",
    "\n",
    "During the episode which saw the couple, Kajol and Ajay Devgn, on being asked by Karan on one superstition that Ajay was guilty of believing, Ajay had said: “I had this superstition that all your films with ‘K’ work, till we did Kaal.” It may be recalled that Kaal (2005) was a Ajay starrer, which had been produced by Karan. The film bombed miserably on the box office (and hence the remark).\n",
    "\n",
    "A panel, consisting of Kirron Kher, Malaika Arora, Mallika Dua and Vir Das, as judges chose Ajay’s reply from a lot of finalists.\n",
    "Ajay Devgn and Kajol on Koffee With Karan this season.\n",
    "\n",
    "According to the report, Ajay was handed over the keys of the sports car on Thursday. Incidentally, Ajay is passionate about sports cars and this should definitely gladden his heart.\n",
    "\n",
    "Koffee With Karan ran into controversy with the episode featuring cricketers Hardik Pandya and KL Rahul. The said episode was removed from Star World channel after complaints were raised against it for being disrespectful towards women.\n",
    "\n",
    "The last episode of this season will reportedly feature Kareena Kapoor Khan and Priyanka Chopra. \"\"\""
   ]
  },
  {
   "cell_type": "code",
   "execution_count": 8,
   "metadata": {},
   "outputs": [
    {
     "ename": "ModuleNotFoundError",
     "evalue": "No module named 'wordcloud'",
     "output_type": "error",
     "traceback": [
      "\u001b[1;31m---------------------------------------------------------------------------\u001b[0m",
      "\u001b[1;31mModuleNotFoundError\u001b[0m                       Traceback (most recent call last)",
      "\u001b[1;32m<ipython-input-8-99187434d5bb>\u001b[0m in \u001b[0;36m<module>\u001b[1;34m\u001b[0m\n\u001b[1;32m----> 1\u001b[1;33m \u001b[1;32mfrom\u001b[0m \u001b[0mwordcloud\u001b[0m \u001b[1;32mimport\u001b[0m \u001b[0mWordCloud\u001b[0m \u001b[1;33m,\u001b[0m \u001b[0mSTOPWORDS\u001b[0m\u001b[1;33m\u001b[0m\u001b[1;33m\u001b[0m\u001b[0m\n\u001b[0m\u001b[0;32m      2\u001b[0m \u001b[1;32mimport\u001b[0m \u001b[0mmatplotlib\u001b[0m\u001b[1;33m.\u001b[0m\u001b[0mpyplot\u001b[0m \u001b[1;32mas\u001b[0m \u001b[0mplt\u001b[0m\u001b[1;33m\u001b[0m\u001b[1;33m\u001b[0m\u001b[0m\n\u001b[0;32m      3\u001b[0m \u001b[0mwordcloud\u001b[0m\u001b[1;33m=\u001b[0m\u001b[0mWordCloud\u001b[0m\u001b[1;33m(\u001b[0m\u001b[0mstopwords\u001b[0m\u001b[1;33m=\u001b[0m\u001b[0mSTOPWORDS\u001b[0m\u001b[1;33m,\u001b[0m\u001b[0mbackground_color\u001b[0m\u001b[1;33m=\u001b[0m\u001b[1;34m'black'\u001b[0m\u001b[1;33m,\u001b[0m\u001b[0mmax_words\u001b[0m\u001b[1;33m=\u001b[0m\u001b[1;36m300\u001b[0m\u001b[1;33m)\u001b[0m\u001b[1;33m.\u001b[0m\u001b[0mgenerate\u001b[0m\u001b[1;33m(\u001b[0m\u001b[0mword_string\u001b[0m\u001b[1;33m)\u001b[0m\u001b[1;33m\u001b[0m\u001b[1;33m\u001b[0m\u001b[0m\n",
      "\u001b[1;31mModuleNotFoundError\u001b[0m: No module named 'wordcloud'"
     ]
    }
   ],
   "source": [
    "from wordcloud import WordCloud , STOPWORDS\n",
    "import matplotlib.pyplot as plt\n",
    "wordcloud=WordCloud(stopwords=STOPWORDS,background_color='black',max_words=300).generate(word_string)"
   ]
  },
  {
   "cell_type": "code",
   "execution_count": null,
   "metadata": {},
   "outputs": [],
   "source": []
  },
  {
   "cell_type": "code",
   "execution_count": null,
   "metadata": {},
   "outputs": [],
   "source": []
  }
 ],
 "metadata": {
  "kernelspec": {
   "display_name": "Python 2",
   "language": "python",
   "name": "python2"
  },
  "language_info": {
   "codemirror_mode": {
    "name": "ipython",
    "version": 2
   },
   "file_extension": ".py",
   "mimetype": "text/x-python",
   "name": "python",
   "nbconvert_exporter": "python",
   "pygments_lexer": "ipython2",
   "version": "2.7.15"
  }
 },
 "nbformat": 4,
 "nbformat_minor": 2
}
